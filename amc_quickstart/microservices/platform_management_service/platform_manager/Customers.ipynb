{
 "cells": [
  {
   "cell_type": "markdown",
   "metadata": {},
   "source": [
    "# Customers\n",
    "\n",
    "A template for managing customers"
   ]
  },
  {
   "cell_type": "markdown",
   "metadata": {},
   "source": [
    "### Global Configuration"
   ]
  },
  {
   "cell_type": "code",
   "execution_count": null,
   "metadata": {},
   "outputs": [],
   "source": [
    "import os\n",
    "from dotenv import load_dotenv\n",
    "from library.customer_interface import CustomerInterface\n",
    "\n",
    "load_dotenv()\n",
    "ENV = os.environ['TEAM_NAME']\n",
    "TEAM_NAME = os.environ['ENV']\n",
    "\n",
    "customer_interface = CustomerInterface(TEAM_NAME=TEAM_NAME, ENV=ENV)"
   ]
  },
  {
   "cell_type": "markdown",
   "metadata": {},
   "source": [
    "### View all customers"
   ]
  },
  {
   "cell_type": "code",
   "execution_count": null,
   "metadata": {},
   "outputs": [],
   "source": [
    "customer_interface.get_customers()"
   ]
  },
  {
   "cell_type": "markdown",
   "metadata": {},
   "source": [
    "### Onboard a new customer"
   ]
  },
  {
   "cell_type": "code",
   "execution_count": null,
   "metadata": {},
   "outputs": [],
   "source": [
    "customerId = ''\n",
    "\n",
    "customerDetails = {\n",
    "    \"customerPrefix\" : '',\n",
    "    \"customerName\": '',\n",
    "    \"endemicType\": '', \n",
    "    \"region\": '',\n",
    "    \"amc\":{\n",
    "        \"amcDatasetName\": '',\n",
    "        \"amcApiEndpoint\": '',\n",
    "        \"amcOrangeAwsAccount\": '',\n",
    "        \"amcS3BucketName\": ''\n",
    "    }\n",
    "}"
   ]
  },
  {
   "cell_type": "code",
   "execution_count": null,
   "metadata": {},
   "outputs": [],
   "source": [
    "customer_interface.onboard_customer(\n",
    "    customerId=customerId,\n",
    "    customerDetails=customerDetails\n",
    ")"
   ]
  }
 ],
 "metadata": {
  "interpreter": {
   "hash": "40ec9b8a0674637d910db8619ba3f1edb1c41b7ab1d9e9c6b03cbee6008de5a1"
  },
  "kernelspec": {
   "display_name": "Python 3.10.3 64-bit ('amc-insights')",
   "language": "python",
   "name": "python3"
  },
  "language_info": {
   "name": "python",
   "version": "3.10.3"
  },
  "orig_nbformat": 4
 },
 "nbformat": 4,
 "nbformat_minor": 2
}
