{
 "cells": [
  {
   "cell_type": "markdown",
   "metadata": {},
   "source": [
    "# Workflow Schedules\n",
    "\n",
    "A template for interacting with workflow schedules\n",
    "\n",
    "Optional parameters are commented out"
   ]
  },
  {
   "cell_type": "markdown",
   "metadata": {},
   "source": [
    "### Global Configuration"
   ]
  },
  {
   "cell_type": "code",
   "execution_count": null,
   "metadata": {},
   "outputs": [],
   "source": [
    "import os\n",
    "from dotenv import load_dotenv\n",
    "from library.workflow_interface import WorkflowInterface\n",
    "\n",
    "load_dotenv()\n",
    "TEAM_NAME = os.environ['TEAM_NAME']\n",
    "ENV = os.environ['ENV']\n",
    "\n",
    "workflow_interface = WorkflowInterface(TEAM_NAME=TEAM_NAME, ENV=ENV)"
   ]
  },
  {
   "cell_type": "markdown",
   "metadata": {},
   "source": [
    "### View all workflow schedules"
   ]
  },
  {
   "cell_type": "code",
   "execution_count": null,
   "metadata": {},
   "outputs": [],
   "source": [
    "workflow_interface.get_workflow_schedules()"
   ]
  },
  {
   "cell_type": "markdown",
   "metadata": {},
   "source": [
    "### Create a workflow schedule"
   ]
  },
  {
   "cell_type": "code",
   "execution_count": null,
   "metadata": {},
   "outputs": [],
   "source": [
    "customerId = ''\n",
    "workflowId = ''\n",
    "scheduleDetails = {\n",
    "    \"scheduleName\": '',\n",
    "    \"state\": '' ,\n",
    "    \"scheduleExpression\": '',\n",
    "    \n",
    "#   \"metadata\": {\n",
    "#       \"scheduleDescription\": ''\n",
    "#   }\n",
    "}\n",
    "\n",
    "# Override the saved defaultPayload for the workflow\n",
    "#payload = {\n",
    "#   'timeWindowStart': '' ,\n",
    "#   'timeWindowEnd': ''   ,\n",
    "#   'timeWindowType': ''  ,\n",
    "#   'workflowExecutedDate': '',\n",
    "#   'ignoreDataGaps': True\n",
    "#}"
   ]
  },
  {
   "cell_type": "code",
   "execution_count": null,
   "metadata": {},
   "outputs": [],
   "source": [
    "workflow_interface.set_workflow_schedule(\n",
    "    workflowId=workflowId, \n",
    "    customerId=customerId, \n",
    "    scheduleDetails=scheduleDetails,\n",
    "    \n",
    "#   payload=payload\n",
    ")"
   ]
  },
  {
   "cell_type": "markdown",
   "metadata": {},
   "source": [
    "### Delete a workflow schedule"
   ]
  },
  {
   "cell_type": "code",
   "execution_count": null,
   "metadata": {},
   "outputs": [],
   "source": [
    "customerId = ''\n",
    "scheduleName = ''"
   ]
  },
  {
   "cell_type": "code",
   "execution_count": null,
   "metadata": {},
   "outputs": [],
   "source": [
    "workflow_interface.delete_workflow_schedule(\n",
    "    customerId=customerId,\n",
    "    scheduleName=scheduleName\n",
    ")"
   ]
  }
 ],
 "metadata": {
  "language_info": {
   "name": "python"
  },
  "orig_nbformat": 4
 },
 "nbformat": 4,
 "nbformat_minor": 2
}
