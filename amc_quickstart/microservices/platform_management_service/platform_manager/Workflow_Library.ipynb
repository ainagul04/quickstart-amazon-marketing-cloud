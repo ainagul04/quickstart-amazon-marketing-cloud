{
 "cells": [
  {
   "cell_type": "markdown",
   "metadata": {},
   "source": [
    "# Workflow Library\n",
    "\n",
    "A template for interacting with the workflow library\n",
    "\n",
    "Optional parameters are commented out"
   ]
  },
  {
   "cell_type": "markdown",
   "metadata": {},
   "source": [
    "### Global Configuration"
   ]
  },
  {
   "cell_type": "code",
   "execution_count": null,
   "metadata": {},
   "outputs": [],
   "source": [
    "import os\n",
    "from dotenv import load_dotenv\n",
    "from library.workflow_interface import WorkflowInterface\n",
    "\n",
    "load_dotenv()\n",
    "TEAM_NAME = os.environ['TEAM_NAME']\n",
    "ENV = os.environ['ENV']\n",
    "\n",
    "workflow_interface = WorkflowInterface(TEAM_NAME=TEAM_NAME, ENV=ENV)"
   ]
  },
  {
   "cell_type": "markdown",
   "metadata": {},
   "source": [
    "### View all workflow library records"
   ]
  },
  {
   "cell_type": "code",
   "execution_count": null,
   "metadata": {},
   "outputs": [],
   "source": [
    "workflow_interface.get_workflow_library_records()"
   ]
  },
  {
   "cell_type": "markdown",
   "metadata": {},
   "source": [
    "### Create a workflow library record"
   ]
  },
  {
   "cell_type": "code",
   "execution_count": null,
   "metadata": {},
   "outputs": [],
   "source": [
    "workflowId = ''\n",
    "query = \"\"\"\n",
    "\n",
    "\"\"\"\n",
    "workflowDetails = {\n",
    "    \"metadata\": {\n",
    "        \"workflowName\": '',\n",
    "        \"description\": '' ,\n",
    "    },\n",
    "    \"sqlQuery\": query,\n",
    "#   \"filteredMetricsDiscriminatorColumn\": '',\n",
    "#   \"distinctUserCountColumn\": '',\n",
    "#   \"filteredReasonColumn\": '',\n",
    "    \"defaultPayload\": {\n",
    "            \"timeWindowEnd\": '' ,\n",
    "            \"timeWindowStart\": '' ,\n",
    "            \"timeWindowType\": '' ,\n",
    "            \"workflowExecutedDate\": '',\n",
    "            \"ignoreDataGaps\": True\n",
    "    }\n",
    "}\n",
    "\n",
    "#schedule = {\n",
    "#    \"scheduleName\": '',\n",
    "#    \"scheduleDetails\": {\n",
    "#        \"metadata\": {\n",
    "#            \"scheduleDescription\": ''\n",
    "#        },\n",
    "#        \"state\": '',\n",
    "#        \"scheduleExpression\": ''\n",
    "#    }\n",
    "#}\n",
    "\n",
    "#customerPrefix = ''\n",
    "#endemicType = ''"
   ]
  },
  {
   "cell_type": "code",
   "execution_count": null,
   "metadata": {},
   "outputs": [],
   "source": [
    "workflow_interface.set_workflow_library_record(\n",
    "    workflowId=workflowId,\n",
    "    workflowDetails=workflowDetails,\n",
    "    \n",
    "#   schedule=schedule,\n",
    "#   customerPrefix=customerPrefix,\n",
    "#   endemicType=endemicType\n",
    ")"
   ]
  },
  {
   "cell_type": "markdown",
   "metadata": {},
   "source": [
    "### Delete a workflow library record"
   ]
  },
  {
   "cell_type": "code",
   "execution_count": null,
   "metadata": {},
   "outputs": [],
   "source": [
    "workflowId = ''"
   ]
  },
  {
   "cell_type": "code",
   "execution_count": null,
   "metadata": {},
   "outputs": [],
   "source": [
    "workflow_interface.delete_workflow_library_record(workflowId=workflowId)"
   ]
  }
 ],
 "metadata": {
  "kernelspec": {
   "display_name": "amc-insights",
   "language": "python",
   "name": "python3"
  },
  "language_info": {
   "name": "python",
   "version": "3.10.3 (main, Mar 29 2022, 11:42:49) [Clang 13.1.6 (clang-1316.0.21.2)]"
  },
  "orig_nbformat": 4,
  "vscode": {
   "interpreter": {
    "hash": "40ec9b8a0674637d910db8619ba3f1edb1c41b7ab1d9e9c6b03cbee6008de5a1"
   }
  }
 },
 "nbformat": 4,
 "nbformat_minor": 2
}
