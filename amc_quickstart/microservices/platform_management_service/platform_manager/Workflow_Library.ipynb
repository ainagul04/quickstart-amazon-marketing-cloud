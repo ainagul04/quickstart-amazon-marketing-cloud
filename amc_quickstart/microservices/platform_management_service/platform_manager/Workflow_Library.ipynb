{
 "cells": [
  {
   "cell_type": "markdown",
   "metadata": {},
   "source": [
    "# Workflow Library\n",
    "\n",
    "A template for interacting with the workflow library\n",
    "\n",
    "Optional parameters are commented out"
   ]
  },
  {
   "cell_type": "markdown",
   "metadata": {},
   "source": [
    "### Global Configuration"
   ]
  },
  {
   "cell_type": "code",
   "execution_count": null,
   "metadata": {},
   "outputs": [],
   "source": [
    "import os\n",
    "from dotenv import load_dotenv\n",
    "from library.workflow_interface import WorkflowInterface\n",
    "\n",
    "load_dotenv()\n",
    "ENV = os.environ['TEAM_NAME']\n",
    "TEAM_NAME = os.environ['ENV']\n",
    "\n",
    "workflow_interface = WorkflowInterface(TEAM_NAME=TEAM_NAME, ENV=ENV)"
   ]
  },
  {
   "cell_type": "markdown",
   "metadata": {},
   "source": [
    "### View all workflow library records"
   ]
  },
  {
   "cell_type": "code",
   "execution_count": null,
   "metadata": {},
   "outputs": [],
   "source": [
    "workflow_interface.get_workflow_library_records()"
   ]
  },
  {
   "cell_type": "markdown",
   "metadata": {},
   "source": [
    "### Create a workflow library record"
   ]
  },
  {
   "cell_type": "code",
   "execution_count": null,
   "metadata": {},
   "outputs": [],
   "source": [
    "workflowId = ''\n",
    "query = \"\"\"\n",
    "\n",
    "\"\"\"\n",
    "workflowDetails = {\n",
    "    \"metadata\": {\n",
    "        \"workflowName\": '',\n",
    "        \"description\": '' ,\n",
    "    },\n",
    "    \"sqlQuery\": query,\n",
    "    \"defaultPayload\": {\n",
    "            \"timeWindowEnd\": '' ,\n",
    "            \"timeWindowStart\": '' ,\n",
    "            \"timeWindowType\": '' ,\n",
    "            \"workflowExecutedDate\": ''\n",
    "    }\n",
    "}\n",
    "\n",
    "#schedule = {\n",
    "#    \"scheduleName\": '',\n",
    "#    \"scheduleDetails\": {\n",
    "#        \"metadata\": {\n",
    "#            \"scheduleDescription\": ''\n",
    "#        },\n",
    "#        \"state\": '',\n",
    "#        \"scheduleExpression\": ''\n",
    "#    }\n",
    "#}\n",
    "#customerPrefix = ''\n",
    "#endemicType = ''"
   ]
  },
  {
   "cell_type": "code",
   "execution_count": null,
   "metadata": {},
   "outputs": [],
   "source": [
    "workflow_interface.set_workflow_library_record(\n",
    "    workflowId=workflowId,\n",
    "    workflowDetails=workflowDetails,\n",
    "    \n",
    "    #schedule=schedule,\n",
    "    #customerPrefix=customerPrefix,\n",
    "    #endemicType=endemicType\n",
    ")"
   ]
  },
  {
   "cell_type": "markdown",
   "metadata": {},
   "source": [
    "### Delete a workflow library record"
   ]
  },
  {
   "cell_type": "code",
   "execution_count": null,
   "metadata": {},
   "outputs": [],
   "source": [
    "workflowId = ''"
   ]
  },
  {
   "cell_type": "code",
   "execution_count": null,
   "metadata": {},
   "outputs": [],
   "source": [
    "workflow_interface.delete_workflow_library_record(workflowId=workflowId)"
   ]
  }
 ],
 "metadata": {
  "language_info": {
   "name": "python"
  },
  "orig_nbformat": 4
 },
 "nbformat": 4,
 "nbformat_minor": 2
}
