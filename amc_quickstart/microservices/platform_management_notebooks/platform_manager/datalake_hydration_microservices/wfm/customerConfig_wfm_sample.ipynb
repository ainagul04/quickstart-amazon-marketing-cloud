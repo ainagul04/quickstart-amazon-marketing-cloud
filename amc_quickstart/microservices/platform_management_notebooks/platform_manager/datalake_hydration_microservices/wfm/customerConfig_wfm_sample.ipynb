{
 "cells": [
  {
   "cell_type": "markdown",
   "id": "24f35d3a",
   "metadata": {},
   "source": [
    "## Customer Config\n",
    "#### DynamoDB Table : wfm-&lt;teamName&gt;-CustomerConfig-&lt;env&gt;\n"
   ]
  },
  {
   "cell_type": "code",
   "execution_count": null,
   "id": "3af39636",
   "metadata": {},
   "outputs": [],
   "source": [
    "import boto3\n",
    "import json\n",
    "import pandas as pd\n",
    "from atsclientslibraries.customer_config import customerConfig"
   ]
  },
  {
   "cell_type": "markdown",
   "id": "c9ec0853",
   "metadata": {},
   "source": [
    "## Global Configs\n",
    "#### Edit the following configuration for your particular AMC Instance."
   ]
  },
  {
   "cell_type": "code",
   "execution_count": null,
   "id": "ab75198e",
   "metadata": {},
   "outputs": [],
   "source": [
    "## The Team Name configured in the Data Lake platform\n",
    "# This is the same value passed in the 'data_lake_parameters' team of ddk.json file\n",
    "TEAM_NAME = \"demoteam\"\n",
    "\n",
    "aws_region = \"us-east-1\"\n",
    "\n",
    "ENV=\"dev\"\n",
    "\n",
    "aws_account_number = '<current aws account number>'\n",
    "\n",
    "customerId = 'democustomer'\n",
    "\n",
    "customerName = \"DemoCustomer\"\n",
    "\n",
    "# The AMC Instance API Endpoint URL Can Be Found on Your AMC UI Page\n",
    "amc_api_endpoint = \"<AMC-API-ENDPOINT-URL>\"\n"
   ]
  },
  {
   "cell_type": "markdown",
   "id": "16a9a21b",
   "metadata": {},
   "source": [
    "## Structure of Customer Configuration Records and their description. They are stored in CustomerConfig DynamoDB Table. "
   ]
  },
  {
   "cell_type": "markdown",
   "id": "e0d7c651",
   "metadata": {},
   "source": [
    "```\n",
    "{\n",
    "    \"customerId\": <Customer ID which will be used to tag resources like bucket prefixes and table names in the platform. It has to unique and can be the name of the amc instance>,\n",
    "    \n",
    "    \"customerName\":<Customer Name. This will be used to idenify a customer. Keep it less than 5 characters and avoid any special characters>,\n",
    "    \n",
    "    \"customerPrefix\":<Prefix of Customer Name>\n",
    "    \n",
    "    \"customer_hash_key\":<Another unique field that can be used as an ID for the customer>\n",
    "    \n",
    "    \"endemic_type\": <ENDEMIC or NON-ENDEMIC; ENDEMIC: Brands that sell on Amazon, NONENDEMIC: Brands that do not sell on Amazon>,\n",
    "    \n",
    "    \"amc\":{\n",
    "        \"amcAccessCategory\":<EXTERNAL or INTERNAL>,\n",
    "        \n",
    "        \"amcApiEndpoint\":<AMC instance endpoint. This can be requested or retrieved from the ticket raised to the AMC team >,\n",
    "        \n",
    "        \"amcInstanceRegion\":<Region of the AMC instance. This can be requested or retrieved from the ticket raised to the AMC team>,\n",
    "        \n",
    "        \"amcGreenAwsAccount\":<AMC Green Account. This can be requested or retrieved from the ticket raised to the AMC team>,\n",
    "        \n",
    "        \"amcWorkflowPackages\":<Customer ID>,\n",
    "        \n",
    "        \"maximumConcurrentWorkflowExecutions\":<Maximum number of workflows that can be executed concurrently by the amc instance. The limit is 10>,\n",
    "        \n",
    "         \"wfm\": {\n",
    "             \"amcWorkflowExecutionDLQSQSQueueName\":<Name of the Dead Letter SQS Queue. Failed Executions are stored in this queue. Naming standard is\n",
    "             {MicroserviceName}-{TeamName}-{PipelineName-{Environment}-workflowExecution-{CustomerID}-DLQ.fifo>,\n",
    "             \n",
    "             \"amcWorkflowExecutionSQSQueueName\":<Name of the AMC Workflow Execution Queue. \n",
    "                                                 Workflows that need to be executed are added to this queue. Naming standard is \n",
    "                                                 {MicroserviceName}-{TeamName}-{PipelineName}-{Environment-workflowExecution-{CustomerID}.fifo>,\n",
    "             \n",
    "             \"enableWorkflowLibraryNewContent\":<True or False; Set to True to allow customer to create new workflows in the library.>,\n",
    "             \n",
    "             \"enableWorkflowLibraryRemoval\":<True or False; Set to True to allow customer to delete workflows in the library.>,\n",
    "             \n",
    "             \"enableWorkflowLibraryScheduleCreation\":<True or False; Set to True to allow creating new workflow schedules.>,\n",
    "             \n",
    "             \"enableWorkflowLibraryScheduleRemoval\":<True or False; Set to True to allow deleting workflow schedules.>,\n",
    "             \n",
    "             \"enableWorkflowLibraryUpdates\":<True or False; Set to True to allow customer to update workflows.>,\n",
    "             \n",
    "             \"snsTopicArn\":<ARN of SNS Topic subscribed to WFM service. Naming standard is \n",
    "             arn:aws:sns:{AWSRegion}:{AWSAccountNumber}:{MicroserviceName}-{TeamName}-{PipelineName}-SNSTopic>\n",
    "             \n",
    "             \"runWorkflowByCampaign\":<dict containing parameters related to the Campaigns>\n",
    "             \n",
    "             \"syncWorkflowStatuses\": {\n",
    "                        \"amcWorkflowExecutionTrackingDynamoDBTableName\": <Name of the table where execution tracking will be stored. Naming standard \n",
    "                        is <{MicroserviceName}-{TeamName}-{PipelineName}-AMCExecutionStatus>\",\n",
    "                        \n",
    "                        \"lastSyncedTime\": \"Auto-filled\",\n",
    "                        \n",
    "                        \"latestLastUpdatedTime\": \"Auto-filled\",\n",
    "                        \n",
    "                        \"workflowExecutionStatusLookBackHours\": <Number of hours of execution that should be looked back to update the status>,\n",
    "                        \n",
    "                        \"workflowStatusExpirationHours\": <Number of hours after which the workflow status should be set to expired>,\n",
    "                        \n",
    "                        \"workflowStatusExpirationTimeZone\": <Time Zone in which the expiration should be calculated, for e.g America/New_York\">,\n",
    "                        \n",
    "                        \"WorkflowStatusRecordRetentionDays\": <Number of Days the execution status records should be kept stored in the table>\n",
    "              }\n",
    "         }\n",
    "    }\n",
    "}\n",
    "```"
   ]
  },
  {
   "cell_type": "markdown",
   "id": "dc95c668",
   "metadata": {},
   "source": [
    "### Customer Config Records are created by CMS(Client Management Service). These records can be updated or deleted either directly through the console or using this notebook. Below is a sample customer config item. Use this sample item to create or update Customer Configurations."
   ]
  },
  {
   "cell_type": "code",
   "execution_count": null,
   "id": "aee52af7",
   "metadata": {},
   "outputs": [],
   "source": [
    "# customer configuration record (normally read from the the dynamodb table; format: {microservicename}-{teamname}-CustomerConfig-{env})\n",
    "customer_config_record = {\n",
    "  \"AMC\": {\n",
    "    \"amcAccessCategory\": \"EXTERNAL\",\n",
    "    \"amcApiEndpoint\": f\"{amc_api_endpoint}\",\n",
    "    \"amcInstanceRegion\": f'{aws_region}',\n",
    "    \"amcWorkflowPackages\": f\"{customerId}\",\n",
    "    \"maximumConcurrentWorkflowExecutions\": 10,\n",
    "    \"WFM\": {\n",
    "      \"amcWorkflowExecutionDLQSQSQueueName\": f'wfm-{TEAM_NAME}--{ENV}-workflowExecution-{customerId}-DLQ.fifo',\n",
    "      \"amcWorkflowExecutionSQSQueueName\": f'wfm-{TEAM_NAME}--{ENV}-workflowExecution-{customerId}.fifo',\n",
    "      \"enableWorkflowLibraryNewContent\": True,\n",
    "      \"enableWorkflowLibraryRemoval\": True,\n",
    "      \"enableWorkflowLibraryScheduleCreation\": True,\n",
    "      \"enableWorkflowLibraryScheduleRemoval\": True,\n",
    "      \"enableWorkflowLibraryUpdates\": True,\n",
    "      \"runWorkflowByCampaign\": {\n",
    "        \"campaignAttributionLagDays\": 14,\n",
    "        \"campaignListDatabaseName\": f'{TEAM_NAME}_amcdataset_dev_analytics',\n",
    "        \"campaignListTableName\": f'{customerId}_active_campaigns_advertisers_v1_adhoc',\n",
    "        \"defaultWorkflowExecutionTimeZone\": \"America/New_York\",\n",
    "        \"maximumCampaignAgeDays\": 90,\n",
    "        \"maximumCampaignEndAgeDays\": 18,\n",
    "        \"minimumCampaignAgeDays\": 3\n",
    "      },\n",
    "      \"snsTopicArn\": f'arn:aws:sns:{aws_region}:{aws_account_number}:wfm-{TEAM_NAME}-SNSTopic-{ENV}',\n",
    "      \"syncWorkflowStatuses\": {\n",
    "        \"amcWorkflowExecutionTrackingDynamoDBTableName\": f'wfm-{TEAM_NAME}-AMCExecutionStatus-{ENV}',\n",
    "        \"lastSyncedTime\": \"2021-06-09T23:31:55\",\n",
    "        \"latestLastUpdatedTime\": \"2021-06-09T22:54:24Z\",\n",
    "        \"workflowExecutionStatusLookBackHours\": 72,\n",
    "        \"workflowStatusExpirationHours\": 72,\n",
    "        \"workflowStatusExpirationTimeZone\": \"America/New_York\",\n",
    "        \"WorkflowStatusRecordRetentionDays\": 90\n",
    "      }\n",
    "    }\n",
    "  },\n",
    "  \"customer_hash_key\": customerId,\n",
    "  \"customerId\": customerId,\n",
    "  \"customerName\": customerName,\n",
    "  \"customerPrefix\": customerId,\n",
    "  \"endemicType\": \"ENDEMIC\"\n",
    "}\n",
    "\n",
    "print(json.dumps(customer_config_record, indent=4))"
   ]
  },
  {
   "cell_type": "markdown",
   "id": "988ade29",
   "metadata": {},
   "source": [
    "### Create/Update a Customer Config Record:"
   ]
  },
  {
   "cell_type": "code",
   "execution_count": null,
   "id": "82d81200",
   "metadata": {},
   "outputs": [],
   "source": [
    "dynamodb_resp_wr = customerConfig.set_customer_config(customer_details=customer_config_record, TEAM_NAME=TEAM_NAME, ENV=ENV)\n",
    "dynamodb_resp_wr"
   ]
  },
  {
   "cell_type": "markdown",
   "id": "13d0dbc5",
   "metadata": {},
   "source": [
    "### Retrieve Current Customer Config Records:"
   ]
  },
  {
   "cell_type": "code",
   "execution_count": null,
   "id": "1845aa26",
   "metadata": {},
   "outputs": [],
   "source": [
    "pd.set_option('max_columns', None)\n",
    "pd.set_option('max_colwidth', None)\n",
    "pd.set_option('max_rows', None)\n",
    "\n",
    "df = customerConfig.get_customer_config(TEAM_NAME=TEAM_NAME, ENV=ENV)\n",
    "df.head()"
   ]
  },
  {
   "cell_type": "markdown",
   "id": "18e42cb7",
   "metadata": {},
   "source": [
    "## Delete a Customer Config Record:"
   ]
  },
  {
   "cell_type": "code",
   "execution_count": null,
   "id": "d5d8026b",
   "metadata": {},
   "outputs": [],
   "source": [
    "dynamodb_resp_dl = customerConfig.delete_customer_config(customerId=customerId, TEAM_NAME=TEAM_NAME, ENV=ENV)\n",
    "dynamodb_resp_dl"
   ]
  },
  {
   "cell_type": "code",
   "execution_count": null,
   "id": "c7db5370",
   "metadata": {},
   "outputs": [],
   "source": []
  }
 ],
 "metadata": {
  "kernelspec": {
   "display_name": "conda_python3",
   "language": "python",
   "name": "conda_python3"
  },
  "language_info": {
   "codemirror_mode": {
    "name": "ipython",
    "version": 3
   },
   "file_extension": ".py",
   "mimetype": "text/x-python",
   "name": "python",
   "nbconvert_exporter": "python",
   "pygments_lexer": "ipython3",
   "version": "3.6.13"
  }
 },
 "nbformat": 4,
 "nbformat_minor": 5
}
