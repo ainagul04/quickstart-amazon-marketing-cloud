{
 "cells": [
  {
   "cell_type": "markdown",
   "id": "204aec97",
   "metadata": {},
   "source": [
    "## Run Workflow on Demand\n"
   ]
  },
  {
   "cell_type": "code",
   "execution_count": null,
   "id": "4590dcd5",
   "metadata": {},
   "outputs": [],
   "source": [
    "import boto3\n",
    "import json\n",
    "from atsclientslibraries.workflow_invoke import workflowInvoke"
   ]
  },
  {
   "cell_type": "markdown",
   "id": "d229fe78",
   "metadata": {},
   "source": [
    "## Global Configs\n",
    "#### Edit the following configuration for your particular AMC Instance."
   ]
  },
  {
   "cell_type": "code",
   "execution_count": null,
   "id": "72592c02",
   "metadata": {},
   "outputs": [],
   "source": [
    "## The Team Name configured in the Data Lake platform\n",
    "# This is the same value passed in the 'data_lake_parameters' team of ddk.json file\n",
    "TEAM_NAME = \"demoteam\"\n",
    "\n",
    "aws_region = 'us-east-1'\n",
    "ENV=\"dev\"\n",
    "customerId = 'democustomer'\n",
    "if aws_region == '':\n",
    "    aws_region = str(boto3.Session().region_name)\n",
    "print(\"Region : \" + aws_region)"
   ]
  },
  {
   "cell_type": "markdown",
   "id": "e4fc5e2c",
   "metadata": {},
   "source": [
    "## Structure of AMC Workflow Schedule and it's description."
   ]
  },
  {
   "cell_type": "markdown",
   "id": "46f61cfc",
   "metadata": {},
   "source": [
    "```\n",
    "{\n",
    "  \"customerID\":<ID of Customer. This has to be unique for each customer>,\n",
    "  \"\"Name\":<Name of the Workflow>\"\n",
    "  \"Description\":<Description of the Workflow>,\n",
    "  \"Input\": {\n",
    "      \"payload\": {\n",
    "          \"timeWindowEnd\":<End Date of the report for e.g today(-1) will set the end time to be 1 day back from current time>,\n",
    "          \"timeWindowStart\":Start date of the report for e.g today(-15) will set the start time to be 15 days back from current time>,\n",
    "          \"timeWindowType\":<EXPLICIT>,\n",
    "          \"workflow_executed_date\":<e.g now()>,\n",
    "          \"workflowId\":<Workflow ID>\n",
    "      }\n",
    "  }   \n",
    "}\n",
    "```"
   ]
  },
  {
   "cell_type": "markdown",
   "id": "48260dc9",
   "metadata": {},
   "source": [
    "### Workflows are set to execute on scheduled time. However, if any workflow is needed to run on demand, it can be invoked using this notebook. These workflows should be registered in the AMC instance."
   ]
  },
  {
   "cell_type": "code",
   "execution_count": null,
   "id": "3275e81e",
   "metadata": {},
   "outputs": [],
   "source": [
    "# Workflow record\n",
    "workflow =  {\n",
    "  \"customerId\": customerId,\n",
    "  \"Description\": \"Runs the Impressions_by_hour with 14 day lookback\",\n",
    "  \"Input\": {\n",
    "    \"payload\": {\n",
    "      \"timeWindowEnd\": \"today(-1)\",\n",
    "      \"timeWindowStart\": \"today(-15)\",\n",
    "      \"timeWindowType\": \"EXPLICIT\",\n",
    "      \"workflow_executed_date\": \"now()\",\n",
    "      \"workflowId\": \"Impressions_by_hour_v1\"\n",
    "    }\n",
    "  },\n",
    "  \"Name\": f'wfm-{customerId}-Impressions_by_hour_test'\n",
    "}"
   ]
  },
  {
   "cell_type": "code",
   "execution_count": null,
   "id": "65284b04",
   "metadata": {},
   "outputs": [],
   "source": [
    "response = workflowInvoke.invoke_workflow(workflow, TEAM_NAME, ENV)\n",
    "response"
   ]
  }
 ],
 "metadata": {
  "kernelspec": {
   "display_name": "conda_python3",
   "language": "python",
   "name": "conda_python3"
  },
  "language_info": {
   "codemirror_mode": {
    "name": "ipython",
    "version": 3
   },
   "file_extension": ".py",
   "mimetype": "text/x-python",
   "name": "python",
   "nbconvert_exporter": "python",
   "pygments_lexer": "ipython3",
   "version": "3.6.13"
  }
 },
 "nbformat": 4,
 "nbformat_minor": 5
}
