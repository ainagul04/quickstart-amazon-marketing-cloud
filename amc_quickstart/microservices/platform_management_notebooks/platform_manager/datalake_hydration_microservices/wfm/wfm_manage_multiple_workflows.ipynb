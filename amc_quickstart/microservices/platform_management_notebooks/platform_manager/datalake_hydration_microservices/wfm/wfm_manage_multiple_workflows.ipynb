{
 "cells": [
  {
   "cell_type": "markdown",
   "id": "b9f598b9",
   "metadata": {},
   "source": [
    "# Submitting Multiple Workflows \n",
    "\n",
    "### Import Helper Functions"
   ]
  },
  {
   "cell_type": "code",
   "execution_count": null,
   "id": "d69eb0d4",
   "metadata": {},
   "outputs": [],
   "source": [
    "from atsclientslibraries.workflow_library import workflowLibrary\n",
    "from atsclientslibraries.workflow_schedules import workflowSchedules\n",
    "from atsclientslibraries.workflows import workflows\n",
    "from atsclientslibraries.workflow_invoke import workflowInvoke"
   ]
  },
  {
   "cell_type": "markdown",
   "id": "7c2c5ea9",
   "metadata": {},
   "source": [
    "### Define Global Configurations"
   ]
  },
  {
   "cell_type": "code",
   "execution_count": null,
   "id": "716bbd10",
   "metadata": {},
   "outputs": [],
   "source": [
    "ENV = \"dev\" # Change to your Default Environment\n",
    "\n",
    "## The Team Name configured in the Data Lake platform\n",
    "# This is the same value passed in the 'data_lake_parameters' team of ddk.json file\n",
    "TEAM_NAME = \"<INSERT TEAM NAME>\" \n",
    "\n",
    "#ENTER YOUR CUSTOMER ID SET IN THE 'Getting_Started_With_AMC_Quickstart' NOTEBOOK \n",
    "customer_id = \"testdemocustomer\""
   ]
  },
  {
   "cell_type": "markdown",
   "id": "11b515ff",
   "metadata": {},
   "source": [
    "### Define a List of AMC Workflows to Submit"
   ]
  },
  {
   "cell_type": "code",
   "execution_count": null,
   "id": "8f5bf133",
   "metadata": {},
   "outputs": [],
   "source": [
    "workflow_list = [\n",
    "     {\n",
    "         \"defaultSchedule\": {\n",
    "             \"automaticDeploySchedule\": False,\n",
    "             \"Description\": \"Runs the exposure_group_analysis workflow at 11:00 GMT / 9:00am EST daily. \",\n",
    "             \"Input\": {\n",
    "                 \"payload\": {\n",
    "                     \"timeWindowEnd\": \"today(-2)\",\n",
    "                     \"timeWindowStart\": \"today(-3)\",\n",
    "                     \"timeWindowType\": \"EXPLICIT\",\n",
    "                     \"workflow_executed_date\": \"now()\"\n",
    "                 }\n",
    "             },\n",
    "             \"Name\": \"exposure_group_analysis_daily\",\n",
    "             \"ScheduleExpression\": \"custom(D * 11)\",\n",
    "             \"State\": \"ENABLED\"\n",
    "         },\n",
    "         \"filteredMetricsDiscriminatorColumn\": \"filtered\",\n",
    "         \"sqlQuery\": \"WITH IMP_CLICKSSEG AS  ( SELECT A.ADVERTISER, A.behavior_segment_name AS SEGMENT, SUM(A.total_cost/100000) AS impression_cost, behavior_segment_matched AS MATCHED_SEGMENT, SUM(A.IMPRESSIONS) AS IMPRESSIONS, SUM(B.clicks) as CLICKS, COUNT(DISTINCT A.USER_ID) AS REACH FROM display_impressions_by_user_segments A LEFT JOIN DISPLAY_CLICKS B ON A.request_tag = B.request_tag GROUP BY A.ADVERTISER, A.behavior_segment_name, A.behavior_segment_matched), USR_SEG_IMP as ( select user_id, advertiser_id, behavior_segment_name, behavior_segment_matched, sum(total_cost)/100000 as impression_cost from display_impressions_by_user_segments group by user_id, advertiser_id, behavior_segment_name, behavior_segment_matched ), CONV_SEG AS ( SELECT A.ADVERTISER, A.tracked_asin, B.behavior_segment_name AS SEGMENT, B.behavior_segment_matched AS MATCHED_SEGMENT, SUM(A.CONVERSIONS) AS PURCHASES, sum(A.product_sales) as sales_tracked, sum(A.total_product_sales) as sales_tracked_brand, ROUND(sum(A.total_product_sales)/sum(B.impression_cost),2) as roas_brand, ROUND(sum(A.product_sales)/sum(B.impression_cost),2) as roas_salestracked, SUM(B.impression_cost) AS total_cost_fromconvtable From amazon_attributed_events_by_conversion_time A INNER JOIN USR_SEG_IMP B ON A.USER_ID = B.USER_ID AND A.ADVERTISER_ID = B.ADVERTISER_ID WHERE conversion_event_subtype = 'order' GROUP BY A.ADVERTISER, A.tracked_asin, B.behavior_segment_name, B.behavior_segment_matched ) SELECT A.ADVERTISER, BUILT_IN_PARAMETER('TIME_WINDOW_START') AS time_window_start, BUILT_IN_PARAMETER('TIME_WINDOW_END') AS time_window_end, A.SEGMENT, A.MATCHED_SEGMENT, A.IMPRESSIONS, A.REACH, B.tracked_asin, B.PURCHASES, B.SALES_TRACKED, B.sales_tracked_brand, A.CLICKS, roas_brand, roas_salestracked, A.impression_cost, (B.PURCHASES/A.REACH) as conversion_rate_perc, B.total_cost_fromconvtable FROM IMP_CLICKSSEG A LEFT JOIN CONV_SEG B ON A.ADVERTISER = B.ADVERTISER AND A.SEGMENT = B.SEGMENT AND A.MATCHED_SEGMENT = B.MATCHED_SEGMENT\",\n",
    "         \"version\": 1,\n",
    "         \"workflowId\": \"exposure_group_analysis_daily\",\n",
    "         \"workflowMetaData\": {\n",
    "             \"automaticDeployWorkflow\": True,\n",
    "             \"endemicType\": \"ENDEMIC\"\n",
    "         },\n",
    "         \"workflowType\": \"ENDEMIC|NON-ENDEMIC\"\n",
    "     },\n",
    "     {\n",
    "         \"defaultSchedule\": {\n",
    "             \"automaticDeploySchedule\": False,\n",
    "             \"Description\": \"Runs the exposure_group_analysisn workflow at 11:00 GMT / 9:00am EST weekly. \",\n",
    "             \"Input\": {\n",
    "                 \"payload\": {\n",
    "                     \"timeWindowEnd\": \"today(-1)\",\n",
    "                     \"timeWindowStart\": \"today(-8)\",\n",
    "                     \"timeWindowType\": \"EXPLICIT\",\n",
    "                     \"workflow_executed_date\": \"now()\"\n",
    "                 }\n",
    "             },\n",
    "             \"Name\": \"exposure_group_analysis_weekly,\",\n",
    "             \"ScheduleExpression\": \"custom(D * 11)\",\n",
    "             \"State\": \"ENABLED\"\n",
    "         },\n",
    "         \"filteredMetricsDiscriminatorColumn\": \"filtered\",\n",
    "         \"sqlQuery\": \"WITH IMP_CLICKSSEG AS  ( SELECT A.ADVERTISER, A.behavior_segment_name AS SEGMENT, SUM(A.total_cost/100000) AS impression_cost, behavior_segment_matched AS MATCHED_SEGMENT, SUM(A.IMPRESSIONS) AS IMPRESSIONS, SUM(B.clicks) as CLICKS, COUNT(DISTINCT A.USER_ID) AS REACH FROM display_impressions_by_user_segments A LEFT JOIN DISPLAY_CLICKS B ON A.request_tag = B.request_tag GROUP BY A.ADVERTISER, A.behavior_segment_name, A.behavior_segment_matched), USR_SEG_IMP as ( select user_id, advertiser_id, behavior_segment_name, behavior_segment_matched, sum(total_cost)/100000 as impression_cost from display_impressions_by_user_segments group by user_id, advertiser_id, behavior_segment_name, behavior_segment_matched ), CONV_SEG AS ( SELECT A.ADVERTISER, A.tracked_asin, B.behavior_segment_name AS SEGMENT, B.behavior_segment_matched AS MATCHED_SEGMENT, SUM(A.CONVERSIONS) AS PURCHASES, sum(A.product_sales) as sales_tracked, sum(A.total_product_sales) as sales_tracked_brand, ROUND(sum(A.total_product_sales)/sum(B.impression_cost),2) as roas_brand, ROUND(sum(A.product_sales)/sum(B.impression_cost),2) as roas_salestracked, SUM(B.impression_cost) AS total_cost_fromconvtable From amazon_attributed_events_by_conversion_time A INNER JOIN USR_SEG_IMP B ON A.USER_ID = B.USER_ID AND A.ADVERTISER_ID = B.ADVERTISER_ID WHERE conversion_event_subtype = 'order' GROUP BY A.ADVERTISER, A.tracked_asin, B.behavior_segment_name, B.behavior_segment_matched ) SELECT A.ADVERTISER, BUILT_IN_PARAMETER('TIME_WINDOW_START') AS time_window_start, BUILT_IN_PARAMETER('TIME_WINDOW_END') AS time_window_end, A.SEGMENT, A.MATCHED_SEGMENT, A.IMPRESSIONS, A.REACH, B.tracked_asin, B.PURCHASES, B.SALES_TRACKED, B.sales_tracked_brand, A.CLICKS, roas_brand, roas_salestracked, A.impression_cost, (B.PURCHASES/A.REACH) as conversion_rate_perc, B.total_cost_fromconvtable FROM IMP_CLICKSSEG A LEFT JOIN CONV_SEG B ON A.ADVERTISER = B.ADVERTISER AND A.SEGMENT = B.SEGMENT AND A.MATCHED_SEGMENT = B.MATCHED_SEGMENT\",\n",
    "         \"version\": 1,\n",
    "         \"workflowId\": \"exposure_group_analysis_weekly\",\n",
    "         \"workflowMetaData\": {\n",
    "             \"automaticDeployWorkflow\": True,\n",
    "             \"endemicType\": \"ENDEMIC\"\n",
    "         },\n",
    "         \"workflowType\": \"ENDEMIC|NON-ENDEMIC\"\n",
    "     }\n",
    " ]"
   ]
  },
  {
   "cell_type": "markdown",
   "id": "70184457",
   "metadata": {},
   "source": [
    "#### Setting Multiple Workflows in Workflow Library Table\n"
   ]
  },
  {
   "cell_type": "code",
   "execution_count": null,
   "id": "82bbb416",
   "metadata": {},
   "outputs": [],
   "source": [
    "workflowLibrary.set_workflow_records(workflow_list=workflow_list, TEAM_NAME=TEAM_NAME, ENV=ENV)"
   ]
  },
  {
   "cell_type": "markdown",
   "id": "b02cf23a",
   "metadata": {},
   "source": [
    "#### Setting Multiple Workflow Schedules in Workflows Schedule Table"
   ]
  },
  {
   "cell_type": "code",
   "execution_count": null,
   "id": "31884d4d",
   "metadata": {},
   "outputs": [],
   "source": [
    "workflowSchedules.set_workflow_schedules(workflow_list=workflow_list, TEAM_NAME=TEAM_NAME, ENV=ENV, customer_id=customer_id)"
   ]
  },
  {
   "cell_type": "markdown",
   "id": "a9a6d95e",
   "metadata": {},
   "source": [
    "#### Setting Multiple Workflows in Workflow Table"
   ]
  },
  {
   "cell_type": "code",
   "execution_count": null,
   "id": "a109d918",
   "metadata": {},
   "outputs": [],
   "source": [
    "workflows.set_workflow_records(workflow_list=workflow_list, TEAM_NAME=TEAM_NAME, ENV=ENV, customer_id=customer_id)"
   ]
  },
  {
   "cell_type": "markdown",
   "id": "ce9ead0f",
   "metadata": {},
   "source": [
    "#### Invoke Multiple Workflows To Execute"
   ]
  },
  {
   "cell_type": "code",
   "execution_count": null,
   "id": "2e1b1ed1",
   "metadata": {},
   "outputs": [],
   "source": [
    "workflowInvoke.invoke_workflows(workflow_list=workflow_list, TEAM_NAME=TEAM_NAME, ENV=ENV, customer_id=customer_id)"
   ]
  }
 ],
 "metadata": {
  "kernelspec": {
   "display_name": "conda_python3",
   "language": "python",
   "name": "conda_python3"
  },
  "language_info": {
   "codemirror_mode": {
    "name": "ipython",
    "version": 3
   },
   "file_extension": ".py",
   "mimetype": "text/x-python",
   "name": "python",
   "nbconvert_exporter": "python",
   "pygments_lexer": "ipython3",
   "version": "3.6.13"
  }
 },
 "nbformat": 4,
 "nbformat_minor": 5
}
