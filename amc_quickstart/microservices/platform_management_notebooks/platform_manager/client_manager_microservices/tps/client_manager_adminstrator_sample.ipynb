{
 "cells": [
  {
   "cell_type": "markdown",
   "id": "74b242f6",
   "metadata": {},
   "source": [
    "# Client Manager Adminstrator\n",
    "#### DynamoDB Table - tps-&lt;teamName&gt;-CustomerConfig-&lt;env&gt;"
   ]
  },
  {
   "cell_type": "markdown",
   "id": "55f10356",
   "metadata": {},
   "source": [
    "## Client grouping concept\n",
    "### This notebook is used for onboarding clients for each data lake team space\n",
    "### Each Client should be configured in the same AWS Region as the AMC INSTANCE.\n",
    "### Each client is defined by \n",
    "#### 1. AMC instance\n",
    "#### 2. Corresponding profiles ids which are grouped for this customer according the advertiserids used for setting up the AMC instance"
   ]
  },
  {
   "cell_type": "markdown",
   "id": "4d26ef65",
   "metadata": {},
   "source": [
    "#### -----------------------"
   ]
  },
  {
   "cell_type": "markdown",
   "id": "9625fcc1",
   "metadata": {},
   "source": [
    "## Global Configs\n",
    "#### Edit the following configuration for your particular AMC Instance."
   ]
  },
  {
   "cell_type": "markdown",
   "id": "66c97836",
   "metadata": {},
   "source": [
    "#### -----------------------"
   ]
  },
  {
   "cell_type": "code",
   "execution_count": null,
   "id": "f551aa40",
   "metadata": {},
   "outputs": [],
   "source": [
    "## The Team Name configured in the Data Lake platform\n",
    "# This is the same value passed in the 'data_pipeline_parameters' team of ddk.json file\n",
    "TEAM_NAME = \"demoteam\"\n",
    "\n",
    "## The Dataset Name configured in the Data Lake platform\n",
    "# This is the same value passed in the 'data_pipeline_parameters' dataset of ddk.json file\n",
    "amc_dataset_name = \"amcdataset\"\n",
    "\n",
    "## Region of the AMC instance\n",
    "aws_region = \"us-east-1\"\n",
    "\n",
    "##The Name of the Child Environment Deployed In\n",
    "ENV=\"dev\"\n",
    "\n",
    "# The AMC Instance Information Can Be Found on Your AMC UI Page\n",
    "amc_api_endpoint = \"<ENTER AMC API ENDPOINT URL>\"\n",
    "\n",
    "amc_s3_bucket_name = \"<ENTER AMC S3 BUCKET NAME>\"\n",
    "\n",
    "amc_data_upload_acct = \"<ENTER ACCOUNT ID>\""
   ]
  },
  {
   "cell_type": "code",
   "execution_count": null,
   "id": "180080ba",
   "metadata": {},
   "outputs": [],
   "source": [
    "import boto3\n",
    "if len(aws_region) == 0:\n",
    "    aws_region = str(boto3.Session().region_name)\n",
    "print(\"Region : \" + aws_region)"
   ]
  },
  {
   "cell_type": "markdown",
   "id": "4acdaa00",
   "metadata": {},
   "source": [
    "## To view the list of configured client details\n",
    "#### Run the below cell to view the list"
   ]
  },
  {
   "cell_type": "markdown",
   "id": "c95deff2",
   "metadata": {},
   "source": [
    "#### -----------------------"
   ]
  },
  {
   "cell_type": "code",
   "execution_count": null,
   "id": "665945d5",
   "metadata": {},
   "outputs": [],
   "source": [
    "from atsclientslibraries.clientmgr import customer\n",
    "import pandas as pd\n",
    "## Pandas display configs\n",
    "pd.set_option('max_columns', None)\n",
    "pd.set_option('max_colwidth', None)\n",
    "pd.set_option('max_rows', None)\n",
    "\n",
    "df = customer.get_customers_config(TEAM_NAME=TEAM_NAME)\n",
    "df.head()"
   ]
  },
  {
   "cell_type": "markdown",
   "id": "4f907c5e",
   "metadata": {},
   "source": [
    "#### -----------------------"
   ]
  },
  {
   "cell_type": "markdown",
   "id": "b860fb89",
   "metadata": {},
   "source": [
    "## To Insert or Update client details\n",
    "####        Run the below cell to setup and verify the client configuration\n",
    "```\n",
    "{\n",
    "    \"customer_id\": <Customer ID which will be used to tag resources like bucket prefixes and table names in the platform. It has to unique and can be the name of the amc instance>,\n",
    "    \n",
    "    \"customer_name\":<Customer Name. This will be used to idenify a customer. Keep it less than 5 characters and avoid any special characters>,\n",
    "    \n",
    "    \"customer_type\": <ENDEMIC or NON-ENDEMIC>,\n",
    "    \n",
    "    \"region\":<Region of the AMC instance. This can be requested or retrieved from the ticket raised to the AMC team>,\n",
    "    \n",
    "    \"amc\":{\n",
    "        \"amc_datset_name\":<Name of the dataset which is configured in SDLF Data Lake to process the AMC datasets>,\n",
    "        \n",
    "        \"endpoint_url\":<AMC instance endpoint. This can be requested or retrieved from the ticket raised to the AMC team >,\n",
    "        \n",
    "        \"aws_orange_account_id\":<AMC Orange Account. This can be requested or retrieved from the ticket raised to the AMC team>,\n",
    "                \n",
    "        \"bucket_name\":<Name of the bucket for the AMC Dataset landing bucket in your AWS account. This can be requested or retrieved from the ticket raised to the AMC team>\n",
    "    }\n",
    "}\n",
    "```"
   ]
  },
  {
   "cell_type": "code",
   "execution_count": null,
   "id": "62da901f",
   "metadata": {},
   "outputs": [],
   "source": [
    "import json\n",
    "\n",
    "\n",
    "customer_details = {\n",
    "    \"customer_id\":\"democustomer\",\n",
    "    \"customer_name\":\"DemoCustomer\",\n",
    "    \"customer_type\": \"ENDEMIC\",\n",
    "    \"region\":aws_region,\n",
    "    \"amc\":{\n",
    "        \"amc_dataset_name\":amc_dataset_name,\n",
    "        \"endpoint_url\": amc_api_endpoint,\n",
    "        \"aws_orange_account_id\": amc_data_upload_acct,\n",
    "        \"bucket_name\": amc_s3_bucket_name\n",
    "    }\n",
    "}\n",
    "\n",
    "print(json.dumps(customer_details, indent=4))"
   ]
  },
  {
   "cell_type": "markdown",
   "id": "fe400de3",
   "metadata": {},
   "source": [
    "### Run the below cell to submit the client configuration. \n",
    "#### Before submitting verify the configuration by running the above cell\n",
    "\n",
    "Submitting the client configuration will create the client's AMC S3 bucket and configure / onboard the client."
   ]
  },
  {
   "cell_type": "code",
   "execution_count": null,
   "id": "bee68f59",
   "metadata": {},
   "outputs": [],
   "source": [
    "from atsclientslibraries.clientmgr import customer\n",
    "\n",
    "import boto3\n",
    "\n",
    "dynamodb_resp_wr = customer.set_customers_config(customer_details=customer_details, TEAM_NAME=TEAM_NAME, ENV=ENV)\n",
    "dynamodb_resp_wr"
   ]
  }
 ],
 "metadata": {
  "kernelspec": {
   "display_name": "conda_python3",
   "language": "python",
   "name": "conda_python3"
  },
  "language_info": {
   "codemirror_mode": {
    "name": "ipython",
    "version": 3
   },
   "file_extension": ".py",
   "mimetype": "text/x-python",
   "name": "python",
   "nbconvert_exporter": "python",
   "pygments_lexer": "ipython3",
   "version": "3.6.13"
  }
 },
 "nbformat": 4,
 "nbformat_minor": 5
}
