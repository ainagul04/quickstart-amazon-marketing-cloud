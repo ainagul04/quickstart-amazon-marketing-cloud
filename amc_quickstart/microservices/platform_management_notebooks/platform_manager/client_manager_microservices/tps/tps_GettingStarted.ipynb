{
 "cells": [
  {
   "cell_type": "markdown",
   "id": "0c1c14fa",
   "metadata": {},
   "source": [
    "# Client Manager Adminstrator Getting Started"
   ]
  },
  {
   "cell_type": "markdown",
   "id": "5a1836c6",
   "metadata": {},
   "source": [
    "## Client grouping concept\n",
    "### This notebook is used for onboarding clients for each data lake team space\n",
    "### Each Client should be configured in the same AWS Region as the AMC INSTANCE.\n",
    "### Each client is defined by \n",
    "#### 1. AMC instance\n",
    "#### 2. Corresponding profiles ids which are grouped for this customer according the advertiserids used for setting up the AMC instance"
   ]
  },
  {
   "cell_type": "markdown",
   "id": "6df6c363",
   "metadata": {},
   "source": [
    "#### A sample notebook is provided to on board new clients \n",
    "#### 1. client_manager_adminstrator_sample - This notebook provide steps to on board new clients and enable AMC and sponsored Ads with default configuration. You can duplicate this notebook and rename it as client_manager_adminstrator_<client_name>.ipynb and use it opnbaord new or udpate existing clients"
   ]
  },
  {
   "cell_type": "markdown",
   "id": "38b11fa4",
   "metadata": {},
   "source": [
    "#### FAQs\n",
    "\n",
    "#### ----------------------------------------\n",
    "#### 1. How to onboard a new client\n",
    "####   Please refer the client_manager_adminstrator_sample to onbaord a new client.\n",
    "#### ----------------------------------------\n",
    "#### ----------------------------------------\n",
    "#### 2. How to update AMC Configuration Details update/remove and existing created workflow.\n",
    "####   Please refer the client_manager_adminstrator_sample retrieve section then update the configuration using To Insert or Update client details section.\n",
    "#### ----------------------------------------"
   ]
  }
 ],
 "metadata": {
  "kernelspec": {
   "display_name": "conda_python3",
   "language": "python",
   "name": "conda_python3"
  },
  "language_info": {
   "codemirror_mode": {
    "name": "ipython",
    "version": 3
   },
   "file_extension": ".py",
   "mimetype": "text/x-python",
   "name": "python",
   "nbconvert_exporter": "python",
   "pygments_lexer": "ipython3",
   "version": "3.6.13"
  }
 },
 "nbformat": 4,
 "nbformat_minor": 5
}
